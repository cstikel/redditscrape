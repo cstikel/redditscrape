{
 "cells": [
  {
   "cell_type": "code",
   "execution_count": 10,
   "id": "5899defd-9623-4d35-8302-148f2469a61d",
   "metadata": {},
   "outputs": [],
   "source": [
    "import pandas as pd"
   ]
  },
  {
   "cell_type": "code",
   "execution_count": 8,
   "id": "d5f4ab02-87c6-4416-a631-85ac221e46e0",
   "metadata": {},
   "outputs": [
    {
     "name": "stderr",
     "output_type": "stream",
     "text": [
      "No model was supplied, defaulted to distilbert-base-uncased-finetuned-sst-2-english and revision af0f99b (https://huggingface.co/distilbert-base-uncased-finetuned-sst-2-english).\n",
      "Using a pipeline without specifying a model name and revision in production is not recommended.\n"
     ]
    }
   ],
   "source": [
    "from transformers import pipeline\n",
    "sentiment_pipeline = pipeline(\"sentiment-analysis\")"
   ]
  },
  {
   "cell_type": "code",
   "execution_count": 11,
   "id": "982f7c23-078d-4f1c-9cbe-98d9908aaa77",
   "metadata": {},
   "outputs": [],
   "source": [
    "text_df = pd.read_csv('../data/raw/CryptoPulls2023-02-22.csv')"
   ]
  },
  {
   "cell_type": "code",
   "execution_count": 49,
   "id": "95836493-ef32-4f9d-b810-a81cc32c2b1b",
   "metadata": {},
   "outputs": [],
   "source": [
    "def get_sentiment(text):\n",
    "    try:\n",
    "        sent = sentiment_pipeline(text)\n",
    "    except:\n",
    "        sent = [{'label': 'None', 'score': -1}]\n",
    "        \n",
    "    return sent[0]"
   ]
  },
  {
   "cell_type": "code",
   "execution_count": 53,
   "id": "9a3af156-f123-43ed-8d0c-6d5f27c819da",
   "metadata": {},
   "outputs": [
    {
     "data": {
      "text/html": [
       "<div>\n",
       "<style scoped>\n",
       "    .dataframe tbody tr th:only-of-type {\n",
       "        vertical-align: middle;\n",
       "    }\n",
       "\n",
       "    .dataframe tbody tr th {\n",
       "        vertical-align: top;\n",
       "    }\n",
       "\n",
       "    .dataframe thead th {\n",
       "        text-align: right;\n",
       "    }\n",
       "</style>\n",
       "<table border=\"1\" class=\"dataframe\">\n",
       "  <thead>\n",
       "    <tr style=\"text-align: right;\">\n",
       "      <th></th>\n",
       "      <th>Unnamed: 0</th>\n",
       "      <th>title</th>\n",
       "      <th>score</th>\n",
       "      <th>id</th>\n",
       "      <th>subreddit</th>\n",
       "      <th>url</th>\n",
       "      <th>num_comments</th>\n",
       "      <th>body</th>\n",
       "      <th>created</th>\n",
       "      <th>comments</th>\n",
       "      <th>post_url</th>\n",
       "      <th>label</th>\n",
       "      <th>score</th>\n",
       "    </tr>\n",
       "  </thead>\n",
       "  <tbody>\n",
       "    <tr>\n",
       "      <th>0</th>\n",
       "      <td>0</td>\n",
       "      <td>Current progress of Bitcoin becoming the most ...</td>\n",
       "      <td>359</td>\n",
       "      <td>1182fqf</td>\n",
       "      <td>Bitcoin</td>\n",
       "      <td>/r/Bitcoin/comments/1182fqf/current_progress_o...</td>\n",
       "      <td>96</td>\n",
       "      <td>NaN</td>\n",
       "      <td>1.676983e+09</td>\n",
       "      <td>Silver 2024, Gold 2028, Dollar 2032</td>\n",
       "      <td>/r/Bitcoin/comments/1182fqf/current_progress_o...</td>\n",
       "      <td>POSITIVE</td>\n",
       "      <td>0.995906</td>\n",
       "    </tr>\n",
       "    <tr>\n",
       "      <th>1</th>\n",
       "      <td>1</td>\n",
       "      <td>Current progress of Bitcoin becoming the most ...</td>\n",
       "      <td>359</td>\n",
       "      <td>1182fqf</td>\n",
       "      <td>Bitcoin</td>\n",
       "      <td>/r/Bitcoin/comments/1182fqf/current_progress_o...</td>\n",
       "      <td>96</td>\n",
       "      <td>NaN</td>\n",
       "      <td>1.676983e+09</td>\n",
       "      <td>Here's the rub: gold and especially silver are...</td>\n",
       "      <td>/r/Bitcoin/comments/1182fqf/current_progress_o...</td>\n",
       "      <td>NEGATIVE</td>\n",
       "      <td>0.970915</td>\n",
       "    </tr>\n",
       "    <tr>\n",
       "      <th>2</th>\n",
       "      <td>2</td>\n",
       "      <td>Current progress of Bitcoin becoming the most ...</td>\n",
       "      <td>359</td>\n",
       "      <td>1182fqf</td>\n",
       "      <td>Bitcoin</td>\n",
       "      <td>/r/Bitcoin/comments/1182fqf/current_progress_o...</td>\n",
       "      <td>96</td>\n",
       "      <td>NaN</td>\n",
       "      <td>1.676983e+09</td>\n",
       "      <td>Greater than gold at some point in our lifetim...</td>\n",
       "      <td>/r/Bitcoin/comments/1182fqf/current_progress_o...</td>\n",
       "      <td>POSITIVE</td>\n",
       "      <td>0.998046</td>\n",
       "    </tr>\n",
       "    <tr>\n",
       "      <th>3</th>\n",
       "      <td>3</td>\n",
       "      <td>Current progress of Bitcoin becoming the most ...</td>\n",
       "      <td>359</td>\n",
       "      <td>1182fqf</td>\n",
       "      <td>Bitcoin</td>\n",
       "      <td>/r/Bitcoin/comments/1182fqf/current_progress_o...</td>\n",
       "      <td>96</td>\n",
       "      <td>NaN</td>\n",
       "      <td>1.676983e+09</td>\n",
       "      <td>But those are shiny</td>\n",
       "      <td>/r/Bitcoin/comments/1182fqf/current_progress_o...</td>\n",
       "      <td>POSITIVE</td>\n",
       "      <td>0.993002</td>\n",
       "    </tr>\n",
       "    <tr>\n",
       "      <th>4</th>\n",
       "      <td>4</td>\n",
       "      <td>Current progress of Bitcoin becoming the most ...</td>\n",
       "      <td>359</td>\n",
       "      <td>1182fqf</td>\n",
       "      <td>Bitcoin</td>\n",
       "      <td>/r/Bitcoin/comments/1182fqf/current_progress_o...</td>\n",
       "      <td>96</td>\n",
       "      <td>NaN</td>\n",
       "      <td>1.676983e+09</td>\n",
       "      <td>USA Bond Market is also worth $46 trillion. Bi...</td>\n",
       "      <td>/r/Bitcoin/comments/1182fqf/current_progress_o...</td>\n",
       "      <td>NEGATIVE</td>\n",
       "      <td>0.936626</td>\n",
       "    </tr>\n",
       "  </tbody>\n",
       "</table>\n",
       "</div>"
      ],
      "text/plain": [
       "   Unnamed: 0                                              title  score  \\\n",
       "0           0  Current progress of Bitcoin becoming the most ...    359   \n",
       "1           1  Current progress of Bitcoin becoming the most ...    359   \n",
       "2           2  Current progress of Bitcoin becoming the most ...    359   \n",
       "3           3  Current progress of Bitcoin becoming the most ...    359   \n",
       "4           4  Current progress of Bitcoin becoming the most ...    359   \n",
       "\n",
       "        id subreddit                                                url  \\\n",
       "0  1182fqf   Bitcoin  /r/Bitcoin/comments/1182fqf/current_progress_o...   \n",
       "1  1182fqf   Bitcoin  /r/Bitcoin/comments/1182fqf/current_progress_o...   \n",
       "2  1182fqf   Bitcoin  /r/Bitcoin/comments/1182fqf/current_progress_o...   \n",
       "3  1182fqf   Bitcoin  /r/Bitcoin/comments/1182fqf/current_progress_o...   \n",
       "4  1182fqf   Bitcoin  /r/Bitcoin/comments/1182fqf/current_progress_o...   \n",
       "\n",
       "   num_comments body       created  \\\n",
       "0            96  NaN  1.676983e+09   \n",
       "1            96  NaN  1.676983e+09   \n",
       "2            96  NaN  1.676983e+09   \n",
       "3            96  NaN  1.676983e+09   \n",
       "4            96  NaN  1.676983e+09   \n",
       "\n",
       "                                            comments  \\\n",
       "0                Silver 2024, Gold 2028, Dollar 2032   \n",
       "1  Here's the rub: gold and especially silver are...   \n",
       "2  Greater than gold at some point in our lifetim...   \n",
       "3                                But those are shiny   \n",
       "4  USA Bond Market is also worth $46 trillion. Bi...   \n",
       "\n",
       "                                            post_url     label     score  \n",
       "0  /r/Bitcoin/comments/1182fqf/current_progress_o...  POSITIVE  0.995906  \n",
       "1  /r/Bitcoin/comments/1182fqf/current_progress_o...  NEGATIVE  0.970915  \n",
       "2  /r/Bitcoin/comments/1182fqf/current_progress_o...  POSITIVE  0.998046  \n",
       "3  /r/Bitcoin/comments/1182fqf/current_progress_o...  POSITIVE  0.993002  \n",
       "4  /r/Bitcoin/comments/1182fqf/current_progress_o...  NEGATIVE  0.936626  "
      ]
     },
     "execution_count": 53,
     "metadata": {},
     "output_type": "execute_result"
    }
   ],
   "source": [
    "text_df['sent'] = text_df['comments'].apply(get_sentiment)\n",
    "text_df = pd.concat([text_df.drop(['sent'], axis=1), text_df['sent'].apply(pd.Series)], axis=1)\n",
    "text_df.head()"
   ]
  },
  {
   "cell_type": "code",
   "execution_count": 56,
   "id": "4c623bc4-a4ae-464d-ba73-cd454578b37f",
   "metadata": {},
   "outputs": [],
   "source": [
    "output = text_df.groupby(by='label').agg({'id':'count'})"
   ]
  },
  {
   "cell_type": "code",
   "execution_count": 58,
   "id": "97aa1b6e-3bbe-4c2d-aa16-177bca0189b2",
   "metadata": {},
   "outputs": [],
   "source": [
    "output = output.T"
   ]
  },
  {
   "cell_type": "code",
   "execution_count": 61,
   "id": "d7bb3698-5a22-49c6-9472-7c10d4b139f8",
   "metadata": {},
   "outputs": [],
   "source": [
    "positive_pct = output['POSITIVE'] / (output['POSITIVE']+output['NEGATIVE'])"
   ]
  },
  {
   "cell_type": "code",
   "execution_count": 63,
   "id": "4f1c3758-f500-4042-aea4-0930dc7bebb0",
   "metadata": {},
   "outputs": [
    {
     "data": {
      "text/plain": [
       "id    0.349533\n",
       "dtype: float64"
      ]
     },
     "execution_count": 63,
     "metadata": {},
     "output_type": "execute_result"
    }
   ],
   "source": [
    "positive_pct"
   ]
  },
  {
   "cell_type": "code",
   "execution_count": null,
   "id": "1539800a-10af-43d8-a027-073295a257c7",
   "metadata": {},
   "outputs": [],
   "source": []
  }
 ],
 "metadata": {
  "kernelspec": {
   "display_name": "Python 3 (ipykernel)",
   "language": "python",
   "name": "python3"
  },
  "language_info": {
   "codemirror_mode": {
    "name": "ipython",
    "version": 3
   },
   "file_extension": ".py",
   "mimetype": "text/x-python",
   "name": "python",
   "nbconvert_exporter": "python",
   "pygments_lexer": "ipython3",
   "version": "3.9.13"
  }
 },
 "nbformat": 4,
 "nbformat_minor": 5
}
